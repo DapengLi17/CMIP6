{
 "cells": [
  {
   "cell_type": "markdown",
   "id": "568c4834-3ab0-493c-ba06-5613f90119d7",
   "metadata": {},
   "source": [
    "# readme\n",
    "jupyterlab from https://esgf-pyclient.readthedocs.io/en/latest/notebooks/demo/subset-cmip6.html"
   ]
  },
  {
   "cell_type": "markdown",
   "id": "3600d85f-2311-4f6b-863c-cfc9d3c44266",
   "metadata": {},
   "source": [
    "# Search CMIP6 Dataset with ESGF pyclient"
   ]
  },
  {
   "cell_type": "code",
   "execution_count": null,
   "id": "77c8317d-1375-4a50-98f7-5016e1dd7f43",
   "metadata": {},
   "outputs": [],
   "source": [
    "from pyesgf.search import SearchConnection\n",
    "conn = SearchConnection('https://esgf-data.dkrz.de/esg-search', distrib=True) \n",
    "# url from https://esgf-pyclient.readthedocs.io/en/latest/api.html "
   ]
  },
  {
   "cell_type": "code",
   "execution_count": 2,
   "id": "95d0b757-a9bb-47e2-a8e1-eae9607f7267",
   "metadata": {},
   "outputs": [
    {
     "data": {
      "text/plain": [
       "1"
      ]
     },
     "execution_count": 2,
     "metadata": {},
     "output_type": "execute_result"
    }
   ],
   "source": [
    "ctx = conn.new_context(\n",
    "    project='CMIP6',\n",
    "    source_id='UKESM1-0-LL',\n",
    "    experiment_id='historical',\n",
    "    variable='tas',\n",
    "    frequency='mon',\n",
    "    variant_label='r1i1p1f2',\n",
    "    data_node='esgf-data3.ceda.ac.uk')\n",
    "ctx.hit_count"
   ]
  },
  {
   "cell_type": "code",
   "execution_count": 3,
   "id": "d05e63bd-d91d-4245-b09a-61948661e03e",
   "metadata": {},
   "outputs": [
    {
     "data": {
      "text/plain": [
       "'CMIP6.CMIP.MOHC.UKESM1-0-LL.historical.r1i1p1f2.Amon.tas.gn.v20190406|esgf-data3.ceda.ac.uk'"
      ]
     },
     "execution_count": 3,
     "metadata": {},
     "output_type": "execute_result"
    }
   ],
   "source": [
    "result = ctx.search()[0]\n",
    "result.dataset_id"
   ]
  },
  {
   "cell_type": "code",
   "execution_count": 4,
   "id": "2a929ff2-d1be-4894-aba1-a528905db078",
   "metadata": {},
   "outputs": [
    {
     "name": "stdout",
     "output_type": "stream",
     "text": [
      "http://esgf-data3.ceda.ac.uk/thredds/dodsC/esg_cmip6/CMIP6/CMIP/MOHC/UKESM1-0-LL/historical/r1i1p1f2/Amon/tas/gn/v20190406/tas_Amon_UKESM1-0-LL_historical_r1i1p1f2_gn_185001-194912.nc\n",
      "http://esgf-data3.ceda.ac.uk/thredds/dodsC/esg_cmip6/CMIP6/CMIP/MOHC/UKESM1-0-LL/historical/r1i1p1f2/Amon/tas/gn/v20190406/tas_Amon_UKESM1-0-LL_historical_r1i1p1f2_gn_195001-201412.nc\n"
     ]
    }
   ],
   "source": [
    "files = result.file_context().search()\n",
    "for file in files:\n",
    "    print(file.opendap_url)"
   ]
  },
  {
   "cell_type": "markdown",
   "id": "2ae7ce5d-32b7-4dbb-a5c0-469d4c28feb3",
   "metadata": {},
   "source": [
    "# Subset single dataset with xarray"
   ]
  },
  {
   "cell_type": "code",
   "execution_count": 5,
   "id": "57183b83-eb63-4381-a0e4-68847e01de34",
   "metadata": {},
   "outputs": [
    {
     "name": "stdout",
     "output_type": "stream",
     "text": [
      "<xarray.Dataset>\n",
      "Dimensions:    (time: 1200, bnds: 2, lat: 144, lon: 192)\n",
      "Coordinates:\n",
      "  * time       (time) object 1850-01-16 00:00:00 ... 1949-12-16 00:00:00\n",
      "  * lat        (lat) float64 -89.38 -88.12 -86.88 -85.62 ... 86.88 88.12 89.38\n",
      "  * lon        (lon) float64 0.9375 2.812 4.688 6.562 ... 355.3 357.2 359.1\n",
      "    height     float64 ...\n",
      "Dimensions without coordinates: bnds\n",
      "Data variables:\n",
      "    time_bnds  (time, bnds) object dask.array<chunksize=(120, 2), meta=np.ndarray>\n",
      "    lat_bnds   (lat, bnds) float64 dask.array<chunksize=(144, 2), meta=np.ndarray>\n",
      "    lon_bnds   (lon, bnds) float64 dask.array<chunksize=(192, 2), meta=np.ndarray>\n",
      "    tas        (time, lat, lon) float32 dask.array<chunksize=(120, 144, 192), meta=np.ndarray>\n",
      "Attributes: (12/47)\n",
      "    Conventions:                     CF-1.7 CMIP-6.2\n",
      "    activity_id:                     CMIP\n",
      "    branch_method:                   standard\n",
      "    branch_time_in_child:            0.0\n",
      "    branch_time_in_parent:           144000.0\n",
      "    creation_date:                   2019-04-05T16:02:56Z\n",
      "    ...                              ...\n",
      "    variable_id:                     tas\n",
      "    variant_label:                   r1i1p1f2\n",
      "    license:                         CMIP6 model data produced by the Met Off...\n",
      "    cmor_version:                    3.4.0\n",
      "    tracking_id:                     hdl:21.14100/255d149c-12fc-41f1-878d-034...\n",
      "    DODS_EXTRA.Unlimited_Dimension:  time\n"
     ]
    }
   ],
   "source": [
    "import xarray as xr\n",
    "ds = xr.open_dataset(files[0].opendap_url, chunks={'time': 120})\n",
    "print(ds)"
   ]
  },
  {
   "cell_type": "code",
   "execution_count": 6,
   "id": "c7d82445-1230-4bc6-a764-8c08fb0f2898",
   "metadata": {},
   "outputs": [],
   "source": [
    "da = ds['tas']\n",
    "da = da.isel(time=slice(0, 1))\n",
    "da = da.sel(lat=slice(-50, 50), lon=slice(0, 50))"
   ]
  },
  {
   "cell_type": "code",
   "execution_count": 7,
   "id": "7edb8ff2-34c7-4328-841a-c21f43d9a187",
   "metadata": {},
   "outputs": [
    {
     "data": {
      "text/plain": [
       "<matplotlib.collections.QuadMesh at 0x7fc4dad30580>"
      ]
     },
     "execution_count": 7,
     "metadata": {},
     "output_type": "execute_result"
    },
    {
     "data": {
      "image/png": "[encoded data removed]",
      "text/plain": [
       "<Figure size 432x288 with 2 Axes>"
      ]
     },
     "metadata": {
      "needs_background": "light"
     },
     "output_type": "display_data"
    }
   ],
   "source": [
    "%matplotlib inline\n",
    "da.plot()"
   ]
  },
  {
   "cell_type": "markdown",
   "id": "854455a9-979e-4b37-8d31-fb298b25fc8b",
   "metadata": {},
   "source": [
    "# Subset over multiple datasets"
   ]
  },
  {
   "cell_type": "code",
   "execution_count": 8,
   "id": "0aaf10e7-c711-4af9-ba85-ce472443fbf8",
   "metadata": {},
   "outputs": [
    {
     "name": "stdout",
     "output_type": "stream",
     "text": [
      "<xarray.Dataset>\n",
      "Dimensions:    (time: 1980, bnds: 2, lat: 144, lon: 192)\n",
      "Coordinates:\n",
      "  * time       (time) object 1850-01-16 00:00:00 ... 2014-12-16 00:00:00\n",
      "  * lat        (lat) float64 -89.38 -88.12 -86.88 -85.62 ... 86.88 88.12 89.38\n",
      "  * lon        (lon) float64 0.9375 2.812 4.688 6.562 ... 355.3 357.2 359.1\n",
      "    height     float64 1.5\n",
      "Dimensions without coordinates: bnds\n",
      "Data variables:\n",
      "    time_bnds  (time, bnds) object dask.array<chunksize=(120, 2), meta=np.ndarray>\n",
      "    lat_bnds   (time, lat, bnds) float64 dask.array<chunksize=(1200, 144, 2), meta=np.ndarray>\n",
      "    lon_bnds   (time, lon, bnds) float64 dask.array<chunksize=(1200, 192, 2), meta=np.ndarray>\n",
      "    tas        (time, lat, lon) float32 dask.array<chunksize=(120, 144, 192), meta=np.ndarray>\n",
      "Attributes: (12/47)\n",
      "    Conventions:                     CF-1.7 CMIP-6.2\n",
      "    activity_id:                     CMIP\n",
      "    branch_method:                   standard\n",
      "    branch_time_in_child:            0.0\n",
      "    branch_time_in_parent:           144000.0\n",
      "    creation_date:                   2019-04-05T16:02:56Z\n",
      "    ...                              ...\n",
      "    variable_id:                     tas\n",
      "    variant_label:                   r1i1p1f2\n",
      "    license:                         CMIP6 model data produced by the Met Off...\n",
      "    cmor_version:                    3.4.0\n",
      "    tracking_id:                     hdl:21.14100/255d149c-12fc-41f1-878d-034...\n",
      "    DODS_EXTRA.Unlimited_Dimension:  time\n"
     ]
    }
   ],
   "source": [
    "ds_agg = xr.open_mfdataset([files[0].opendap_url, files[1].opendap_url], chunks={'time': 120}, combine='nested', concat_dim='time')\n",
    "print(ds_agg)"
   ]
  },
  {
   "cell_type": "code",
   "execution_count": 9,
   "id": "75d0ffea-9423-458e-af9f-6802d73a9a4b",
   "metadata": {},
   "outputs": [],
   "source": [
    "da = ds_agg['tas']\n",
    "da = da.isel(time=slice(1200, 1201))\n",
    "da = da.sel(lat=slice(-50, 50), lon=slice(0, 50))"
   ]
  },
  {
   "cell_type": "code",
   "execution_count": 10,
   "id": "2346d3e6-0c20-43df-b6b8-13be063722e7",
   "metadata": {},
   "outputs": [
    {
     "data": {
      "text/plain": [
       "<matplotlib.collections.QuadMesh at 0x7fc4d9be57c0>"
      ]
     },
     "execution_count": 10,
     "metadata": {},
     "output_type": "execute_result"
    },
    {
     "data": {
      "image/png": "[encoded data removed]",
      "text/plain": [
       "<Figure size 432x288 with 2 Axes>"
      ]
     },
     "metadata": {
      "needs_background": "light"
     },
     "output_type": "display_data"
    }
   ],
   "source": [
    "da.plot()"
   ]
  },
  {
   "cell_type": "markdown",
   "id": "ec88fe93-434a-4586-9a67-eec9fd7466ff",
   "metadata": {},
   "source": [
    "# Download datset"
   ]
  },
  {
   "cell_type": "code",
   "execution_count": 11,
   "id": "9584482c-7bd1-4551-87e9-7ec0251944e9",
   "metadata": {},
   "outputs": [],
   "source": [
    "da.to_netcdf('tas_africa_19500116.nc')"
   ]
  },
  {
   "cell_type": "code",
   "execution_count": null,
   "id": "e64ec6ea-ed39-49a4-bc8a-c13cf4c629c2",
   "metadata": {},
   "outputs": [],
   "source": []
  }
 ],
 "metadata": {
  "kernelspec": {
   "display_name": "Python 3",
   "language": "python",
   "name": "python3"
  },
  "language_info": {
   "codemirror_mode": {
    "name": "ipython",
    "version": 3
   },
   "file_extension": ".py",
   "mimetype": "text/x-python",
   "name": "python",
   "nbconvert_exporter": "python",
   "pygments_lexer": "ipython3",
   "version": "3.8.8"
  }
 },
 "nbformat": 4,
 "nbformat_minor": 5
}
